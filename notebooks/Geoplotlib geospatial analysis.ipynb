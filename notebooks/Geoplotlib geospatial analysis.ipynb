{
 "cells": [
  {
   "cell_type": "code",
   "execution_count": 4,
   "id": "d799f2c0",
   "metadata": {},
   "outputs": [
    {
     "name": "stdout",
     "output_type": "stream",
     "text": [
      "Collecting geoplotlib\n",
      "  Downloading geoplotlib-0.3.2.tar.gz (22 kB)\n",
      "Building wheels for collected packages: geoplotlib\n",
      "  Building wheel for geoplotlib (setup.py) ... \u001b[?25ldone\n",
      "\u001b[?25h  Created wheel for geoplotlib: filename=geoplotlib-0.3.2-py3-none-any.whl size=24572 sha256=cbf4d39e69071fceed0bd949ab4367cab9fad550ee1ed27ee6f8121c90decfc8\n",
      "  Stored in directory: /Users/dineshkumaranbalagan/Library/Caches/pip/wheels/90/6c/44/ce926da63d92096ab70dafd2dd2db5c9d14d4cea2dde599921\n",
      "Successfully built geoplotlib\n",
      "Installing collected packages: geoplotlib\n",
      "Successfully installed geoplotlib-0.3.2\n"
     ]
    }
   ],
   "source": [
    "!pip install geoplotlib"
   ]
  },
  {
   "cell_type": "code",
   "execution_count": 2,
   "id": "670814cb",
   "metadata": {},
   "outputs": [],
   "source": [
    "\n",
    "import pandas as pd\n",
    "\n",
    "import geoplotlib\n",
    "\n",
    "import seaborn as sns\n"
   ]
  },
  {
   "cell_type": "code",
   "execution_count": 11,
   "id": "74fa932a",
   "metadata": {},
   "outputs": [
    {
     "data": {
      "text/html": [
       "<div>\n",
       "<style scoped>\n",
       "    .dataframe tbody tr th:only-of-type {\n",
       "        vertical-align: middle;\n",
       "    }\n",
       "\n",
       "    .dataframe tbody tr th {\n",
       "        vertical-align: top;\n",
       "    }\n",
       "\n",
       "    .dataframe thead th {\n",
       "        text-align: right;\n",
       "    }\n",
       "</style>\n",
       "<table border=\"1\" class=\"dataframe\">\n",
       "  <thead>\n",
       "    <tr style=\"text-align: right;\">\n",
       "      <th></th>\n",
       "      <th>lon_departure</th>\n",
       "      <th>lat_departure</th>\n",
       "      <th>lon_arrival</th>\n",
       "      <th>lat_arrival</th>\n",
       "    </tr>\n",
       "  </thead>\n",
       "  <tbody>\n",
       "    <tr>\n",
       "      <th>0</th>\n",
       "      <td>61.838</td>\n",
       "      <td>55.509</td>\n",
       "      <td>38.510</td>\n",
       "      <td>55.681</td>\n",
       "    </tr>\n",
       "    <tr>\n",
       "      <th>1</th>\n",
       "      <td>61.838</td>\n",
       "      <td>55.509</td>\n",
       "      <td>49.464</td>\n",
       "      <td>56.010</td>\n",
       "    </tr>\n",
       "    <tr>\n",
       "      <th>2</th>\n",
       "      <td>61.838</td>\n",
       "      <td>55.509</td>\n",
       "      <td>83.084</td>\n",
       "      <td>55.021</td>\n",
       "    </tr>\n",
       "    <tr>\n",
       "      <th>3</th>\n",
       "      <td>38.510</td>\n",
       "      <td>55.681</td>\n",
       "      <td>61.838</td>\n",
       "      <td>55.509</td>\n",
       "    </tr>\n",
       "    <tr>\n",
       "      <th>4</th>\n",
       "      <td>38.510</td>\n",
       "      <td>55.681</td>\n",
       "      <td>20.987</td>\n",
       "      <td>55.483</td>\n",
       "    </tr>\n",
       "  </tbody>\n",
       "</table>\n",
       "</div>"
      ],
      "text/plain": [
       "   lon_departure  lat_departure  lon_arrival  lat_arrival\n",
       "0         61.838         55.509       38.510       55.681\n",
       "1         61.838         55.509       49.464       56.010\n",
       "2         61.838         55.509       83.084       55.021\n",
       "3         38.510         55.681       61.838       55.509\n",
       "4         38.510         55.681       20.987       55.483"
      ]
     },
     "execution_count": 11,
     "metadata": {},
     "output_type": "execute_result"
    }
   ],
   "source": [
    "data = pd.read_csv(\"https://raw.githubusercontent.com/Dineshkumar-Anbalagan/Tryout-notebooks/main/datasets/flights.csv\")\n",
    "\n",
    "data.drop(\"Unnamed: 0\", axis = 1, inplace = True)\n",
    "\n",
    "data.head()"
   ]
  },
  {
   "cell_type": "code",
   "execution_count": 12,
   "id": "68c84adf",
   "metadata": {},
   "outputs": [],
   "source": [
    "\n",
    "geoplotlib.graph(\n",
    "    \n",
    "    data, src_lat='lat_departure', \n",
    "    \n",
    "    src_lon='lon_departure', dest_lat='lat_arrival', \n",
    "    \n",
    "    dest_lon='lon_arrival', color='hot_r', \n",
    "    \n",
    "    alpha=30, linewidth=1)\n",
    "\n",
    "\n",
    "geoplotlib.show()\n"
   ]
  }
 ],
 "metadata": {
  "kernelspec": {
   "display_name": "Python 3",
   "language": "python",
   "name": "python3"
  },
  "language_info": {
   "codemirror_mode": {
    "name": "ipython",
    "version": 3
   },
   "file_extension": ".py",
   "mimetype": "text/x-python",
   "name": "python",
   "nbconvert_exporter": "python",
   "pygments_lexer": "ipython3",
   "version": "3.8.8"
  }
 },
 "nbformat": 4,
 "nbformat_minor": 5
}
